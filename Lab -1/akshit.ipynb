{
 "cells": [
  {
   "cell_type": "markdown",
   "id": "1c1037be",
   "metadata": {},
   "source": [
    "# Akshit - 19BCE0795"
   ]
  },
  {
   "cell_type": "markdown",
   "id": "3a865f5b",
   "metadata": {},
   "source": [
    "# Task1 - Numpy"
   ]
  },
  {
   "cell_type": "code",
   "execution_count": 1,
   "id": "032b4b61",
   "metadata": {},
   "outputs": [],
   "source": [
    "import numpy as np"
   ]
  },
  {
   "cell_type": "code",
   "execution_count": 2,
   "id": "7eef8cf8",
   "metadata": {},
   "outputs": [],
   "source": [
    "import matplotlib.pyplot as plt"
   ]
  },
  {
   "cell_type": "code",
   "execution_count": 3,
   "id": "44b0ebd1",
   "metadata": {},
   "outputs": [],
   "source": [
    "from scipy import stats"
   ]
  },
  {
   "cell_type": "code",
   "execution_count": 4,
   "id": "b8fcc0b8",
   "metadata": {},
   "outputs": [
    {
     "data": {
      "text/plain": [
       "array([14,  6,  2,  8, 16, 24, 19,  5, 17,  1, 13,  0,  7, 15, 19,  2, 15,\n",
       "       17, 24, 15,  4,  2,  0,  3, 21, 10, 19, 18,  8, 17, 12, 14,  4,  6,\n",
       "       20,  6, 17, 21,  8,  6, 18, 24, 19, 19, 19,  4, 19, 17,  2, 17])"
      ]
     },
     "execution_count": 4,
     "metadata": {},
     "output_type": "execute_result"
    }
   ],
   "source": [
    "ss = np.random.randint(0,25,50)\n",
    "ss"
   ]
  },
  {
   "cell_type": "code",
   "execution_count": 10,
   "id": "c399fe59",
   "metadata": {},
   "outputs": [
    {
     "data": {
      "text/plain": [
       "12.48"
      ]
     },
     "execution_count": 10,
     "metadata": {},
     "output_type": "execute_result"
    }
   ],
   "source": [
    "x = np.mean(ss)\n",
    "x"
   ]
  },
  {
   "cell_type": "code",
   "execution_count": 11,
   "id": "4da4ae21",
   "metadata": {},
   "outputs": [
    {
     "data": {
      "text/plain": [
       "12.0"
      ]
     },
     "execution_count": 11,
     "metadata": {},
     "output_type": "execute_result"
    }
   ],
   "source": [
    "y = np.median(ss)\n",
    "y"
   ]
  },
  {
   "cell_type": "code",
   "execution_count": 12,
   "id": "2eb2ef93",
   "metadata": {},
   "outputs": [
    {
     "data": {
      "text/plain": [
       "42.1296"
      ]
     },
     "execution_count": 12,
     "metadata": {},
     "output_type": "execute_result"
    }
   ],
   "source": [
    "z = np.var(ss)\n",
    "z"
   ]
  },
  {
   "cell_type": "code",
   "execution_count": 16,
   "id": "8bd18c96",
   "metadata": {},
   "outputs": [
    {
     "name": "stdout",
     "output_type": "stream",
     "text": [
      "ModeResult(mode=array([3]), count=array([4]))\n"
     ]
    }
   ],
   "source": [
    "a = stats.mode(ss)\n",
    "print(a)"
   ]
  },
  {
   "cell_type": "code",
   "execution_count": 17,
   "id": "5d3dbb35",
   "metadata": {},
   "outputs": [
    {
     "data": {
      "text/plain": [
       "6.490731853959152"
      ]
     },
     "execution_count": 17,
     "metadata": {},
     "output_type": "execute_result"
    }
   ],
   "source": [
    "st = np.std(ss)\n",
    "st"
   ]
  },
  {
   "cell_type": "code",
   "execution_count": 21,
   "id": "19026f9a",
   "metadata": {
    "scrolled": true
   },
   "outputs": [
    {
     "name": "stdout",
     "output_type": "stream",
     "text": [
      "[ 22.14574453  15.60410969 -14.12839546  -4.0960514  -17.21201505\n",
      "   1.36247275 -12.39195219 -32.17352558 -18.95087642  17.01549059\n",
      " -41.38361582 -18.88245546  24.57898889  -4.57969558  -3.18926135\n",
      " -28.05373112  -5.35664426  32.18779237  15.94072243  22.48239475\n",
      " -23.15911452   5.99692098  13.25167591 -34.21354834   0.60701979]\n"
     ]
    }
   ],
   "source": [
    "randflt = np.random.normal(0,25,25)\n",
    "print(randflt)"
   ]
  },
  {
   "cell_type": "code",
   "execution_count": 25,
   "id": "b1394108",
   "metadata": {},
   "outputs": [
    {
     "name": "stdout",
     "output_type": "stream",
     "text": [
      "54.5\n"
     ]
    }
   ],
   "source": [
    "ages = np.random.randint(0,95,15)\n",
    "ptile = np.percentile(ages,75)\n",
    "print(ptile)"
   ]
  },
  {
   "cell_type": "code",
   "execution_count": 36,
   "id": "60a062b1",
   "metadata": {},
   "outputs": [
    {
     "data": {
      "image/png": "[encoded data removed]",
      "text/plain": [
       "<Figure size 432x288 with 1 Axes>"
      ]
     },
     "metadata": {
      "needs_background": "light"
     },
     "output_type": "display_data"
    }
   ],
   "source": [
    "unf = np.random.randint(0,25,25000)\n",
    "plt.hist(unf,10)\n",
    "plt.show()"
   ]
  },
  {
   "cell_type": "code",
   "execution_count": 29,
   "id": "e4088bcd",
   "metadata": {},
   "outputs": [
    {
     "data": {
      "image/png": "[encoded data removed]",
      "text/plain": [
       "<Figure size 432x288 with 1 Axes>"
      ]
     },
     "metadata": {
      "needs_background": "light"
     },
     "output_type": "display_data"
    }
   ],
   "source": [
    "unf = np.random.normal(0,25,25000)\n",
    "plt.hist(unf,100)\n",
    "plt.show()"
   ]
  },
  {
   "cell_type": "code",
   "execution_count": 35,
   "id": "a886d830",
   "metadata": {},
   "outputs": [
    {
     "data": {
      "text/plain": [
       "<matplotlib.collections.PathCollection at 0x11e5e15a0>"
      ]
     },
     "execution_count": 35,
     "metadata": {},
     "output_type": "execute_result"
    },
    {
     "data": {
      "image/png": "[encoded data removed]",
      "text/plain": [
       "<Figure size 432x288 with 1 Axes>"
      ]
     },
     "metadata": {
      "needs_background": "light"
     },
     "output_type": "display_data"
    }
   ],
   "source": [
    "x = np.random.randint(0,25,25)\n",
    "y = np.random.randint(0,125,25)\n",
    "plt.scatter(x,y)"
   ]
  },
  {
   "cell_type": "code",
   "execution_count": 34,
   "id": "b359d50f",
   "metadata": {},
   "outputs": [
    {
     "data": {
      "text/plain": [
       "<matplotlib.collections.PathCollection at 0x11e67ee90>"
      ]
     },
     "execution_count": 34,
     "metadata": {},
     "output_type": "execute_result"
    },
    {
     "data": {
      "image/png": "[encoded data removed]",
      "text/plain": [
       "<Figure size 432x288 with 1 Axes>"
      ]
     },
     "metadata": {
      "needs_background": "light"
     },
     "output_type": "display_data"
    }
   ],
   "source": [
    "x = np.random.normal(5.0,1.0,255)\n",
    "y = np.random.normal(15.0,2.0,255)\n",
    "plt.scatter(x,y)"
   ]
  },
  {
   "cell_type": "code",
   "execution_count": null,
   "id": "ce5210f0",
   "metadata": {},
   "outputs": [],
   "source": []
  }
 ],
 "metadata": {
  "kernelspec": {
   "display_name": "Python 3 (ipykernel)",
   "language": "python",
   "name": "python3"
  },
  "language_info": {
   "codemirror_mode": {
    "name": "ipython",
    "version": 3
   },
   "file_extension": ".py",
   "mimetype": "text/x-python",
   "name": "python",
   "nbconvert_exporter": "python",
   "pygments_lexer": "ipython3",
   "version": "3.9.9"
  }
 },
 "nbformat": 4,
 "nbformat_minor": 5
}
