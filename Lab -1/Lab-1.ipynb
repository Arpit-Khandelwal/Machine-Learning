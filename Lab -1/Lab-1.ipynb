{
 "cells": [
  {
   "cell_type": "markdown",
   "id": "312481b7",
   "metadata": {},
   "source": [
    "# Arpit Khandelwal\n",
    "# 19BCE0888"
   ]
  },
  {
   "cell_type": "code",
   "execution_count": 47,
   "id": "79d6402d",
   "metadata": {},
   "outputs": [],
   "source": [
    "import numpy as np\n",
    "from scipy import stats"
   ]
  },
  {
   "cell_type": "code",
   "execution_count": 48,
   "id": "d2d50fe6",
   "metadata": {},
   "outputs": [],
   "source": [
    "x = [2,5,1,3,5,74,15,64,28,98,35,64,64]"
   ]
  },
  {
   "cell_type": "code",
   "execution_count": 49,
   "id": "f6197648",
   "metadata": {},
   "outputs": [],
   "source": [
    "mean = np.mean(x)"
   ]
  },
  {
   "cell_type": "code",
   "execution_count": 50,
   "id": "a922278f",
   "metadata": {},
   "outputs": [],
   "source": [
    "median = np.median(x)"
   ]
  },
  {
   "cell_type": "code",
   "execution_count": 51,
   "id": "a83a1e5e",
   "metadata": {},
   "outputs": [],
   "source": [
    "variance = np.var(x)"
   ]
  },
  {
   "cell_type": "code",
   "execution_count": 52,
   "id": "4fd17259",
   "metadata": {},
   "outputs": [],
   "source": [
    "mode = stats.mode(x)"
   ]
  },
  {
   "cell_type": "code",
   "execution_count": 53,
   "id": "4bbae2c5",
   "metadata": {},
   "outputs": [
    {
     "data": {
      "text/plain": [
       "ModeResult(mode=array([2]), count=array([3]))"
      ]
     },
     "execution_count": 53,
     "metadata": {},
     "output_type": "execute_result"
    }
   ],
   "source": [
    "mode"
   ]
  },
  {
   "cell_type": "code",
   "execution_count": 54,
   "id": "379a0575",
   "metadata": {},
   "outputs": [],
   "source": [
    "standardDeviation = np.std(x)"
   ]
  },
  {
   "cell_type": "code",
   "execution_count": 58,
   "id": "9f0057ba",
   "metadata": {},
   "outputs": [
    {
     "data": {
      "text/plain": [
       "49.5"
      ]
     },
     "execution_count": 58,
     "metadata": {},
     "output_type": "execute_result"
    }
   ],
   "source": [
    "x = np.percentile(x,70)\n",
    "x"
   ]
  },
  {
   "cell_type": "code",
   "execution_count": 55,
   "id": "5b82ac8d",
   "metadata": {},
   "outputs": [
    {
     "name": "stdout",
     "output_type": "stream",
     "text": [
      "Array:  [2, 5, 1, 2, 1, 2, 3, 5, 74, 15, 64, 28, 98, 35, 64, 64]\n",
      "Mean: 28.9375\n",
      "Median: 10.0\n",
      "Mode: ModeResult(mode=array([2]), count=array([3]))\n",
      "Variance: 1017.30859375\n",
      "Standard deviation:  31.89527541423651\n"
     ]
    }
   ],
   "source": [
    "print('Array: ',x)\n",
    "print('Mean:',mean)\n",
    "print('Median:',median)\n",
    "print('Mode:',mode)\n",
    "print('Variance:',variance)\n",
    "print('Standard deviation: ',standardDeviation)"
   ]
  },
  {
   "cell_type": "code",
   "execution_count": null,
   "id": "fc06c651",
   "metadata": {},
   "outputs": [],
   "source": [
    "x"
   ]
  },
  {
   "cell_type": "markdown",
   "id": "7740ac9e",
   "metadata": {},
   "source": [
    "## Data Distribution"
   ]
  },
  {
   "cell_type": "code",
   "execution_count": null,
   "id": "c4740bd0",
   "metadata": {},
   "outputs": [],
   "source": [
    "import matplotlib.pyplot as plt"
   ]
  },
  {
   "cell_type": "code",
   "execution_count": 62,
   "id": "532c7cb2",
   "metadata": {},
   "outputs": [],
   "source": [
    "y = np.random.uniform(0.0, 10.0, 250)"
   ]
  },
  {
   "cell_type": "markdown",
   "id": "61c09b53",
   "metadata": {},
   "source": [
    "### Histogram"
   ]
  },
  {
   "cell_type": "code",
   "execution_count": 63,
   "id": "580de396",
   "metadata": {},
   "outputs": [
    {
     "data": {
      "image/png": "[encoded data removed]",
      "text/plain": [
       "<Figure size 432x288 with 1 Axes>"
      ]
     },
     "metadata": {
      "needs_background": "light"
     },
     "output_type": "display_data"
    }
   ],
   "source": [
    "plt.hist(y,5)\n",
    "plt.show()"
   ]
  },
  {
   "cell_type": "code",
   "execution_count": 71,
   "id": "a46eb93f",
   "metadata": {},
   "outputs": [
    {
     "data": {
      "image/png": "[encoded data removed]",
      "text/plain": [
       "<Figure size 432x288 with 1 Axes>"
      ]
     },
     "metadata": {
      "needs_background": "light"
     },
     "output_type": "display_data"
    }
   ],
   "source": [
    "y = np.random.normal(0,20,5000)\n",
    "plt.hist(y,100)\n",
    "plt.show()"
   ]
  },
  {
   "cell_type": "markdown",
   "id": "4607215f",
   "metadata": {},
   "source": [
    "## Scatter"
   ]
  },
  {
   "cell_type": "code",
   "execution_count": 78,
   "id": "c43d814e",
   "metadata": {},
   "outputs": [
    {
     "data": {
      "text/plain": [
       "<matplotlib.collections.PathCollection at 0x1a1e0330880>"
      ]
     },
     "execution_count": 78,
     "metadata": {},
     "output_type": "execute_result"
    },
    {
     "data": {
      "image/png": "[encoded data removed]",
      "text/plain": [
       "<Figure size 432x288 with 1 Axes>"
      ]
     },
     "metadata": {
      "needs_background": "light"
     },
     "output_type": "display_data"
    }
   ],
   "source": [
    "a = np.random.randint(0,25,30)\n",
    "b = np.random.randint(0,125,30)\n",
    "plt.scatter(a,b)"
   ]
  },
  {
   "cell_type": "code",
   "execution_count": 77,
   "id": "1562c017",
   "metadata": {},
   "outputs": [
    {
     "data": {
      "text/plain": [
       "<matplotlib.collections.PathCollection at 0x1a1e06aa460>"
      ]
     },
     "execution_count": 77,
     "metadata": {},
     "output_type": "execute_result"
    },
    {
     "data": {
      "image/png": "[encoded data removed]",
      "text/plain": [
       "<Figure size 432x288 with 1 Axes>"
      ]
     },
     "metadata": {
      "needs_background": "light"
     },
     "output_type": "display_data"
    }
   ],
   "source": [
    "a = np.random.normal(1.0,5.0,255)\n",
    "b = np.random.normal(10.0,12.0,255)\n",
    "plt.scatter(a,b)"
   ]
  }
 ],
 "metadata": {
  "kernelspec": {
   "display_name": "Python 3 (ipykernel)",
   "language": "python",
   "name": "python3"
  },
  "language_info": {
   "codemirror_mode": {
    "name": "ipython",
    "version": 3
   },
   "file_extension": ".py",
   "mimetype": "text/x-python",
   "name": "python",
   "nbconvert_exporter": "python",
   "pygments_lexer": "ipython3",
   "version": "3.9.9"
  }
 },
 "nbformat": 4,
 "nbformat_minor": 5
}
