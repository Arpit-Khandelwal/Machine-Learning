{
 "cells": [
  {
   "cell_type": "markdown",
   "id": "7b85b62b",
   "metadata": {},
   "source": [
    "# Shivam Singhal 19BCE2112\n",
    "\n",
    "## Numpy "
   ]
  },
  {
   "cell_type": "code",
   "execution_count": null,
   "id": "5a8db14f",
   "metadata": {},
   "outputs": [],
   "source": [
    "import numpy as np"
   ]
  },
  {
   "cell_type": "code",
   "execution_count": null,
   "id": "1cff0b05",
   "metadata": {},
   "outputs": [],
   "source": [
    "ss = np.random.randint(100, size=(20))"
   ]
  },
  {
   "cell_type": "code",
   "execution_count": null,
   "id": "c8051b11",
   "metadata": {},
   "outputs": [],
   "source": [
    "ss"
   ]
  },
  {
   "cell_type": "code",
   "execution_count": null,
   "id": "52824b85",
   "metadata": {},
   "outputs": [],
   "source": [
    "x = np.mean(ss)\n",
    "x"
   ]
  },
  {
   "cell_type": "code",
   "execution_count": null,
   "id": "6cdfff43",
   "metadata": {},
   "outputs": [],
   "source": [
    "y = np.median(ss)\n",
    "y"
   ]
  },
  {
   "cell_type": "code",
   "execution_count": null,
   "id": "19c1522f",
   "metadata": {},
   "outputs": [],
   "source": [
    "z = np.var(ss)\n",
    "z"
   ]
  },
  {
   "cell_type": "code",
   "execution_count": null,
   "id": "baad460b",
   "metadata": {},
   "outputs": [],
   "source": [
    "from scipy import stats"
   ]
  },
  {
   "cell_type": "code",
   "execution_count": null,
   "id": "adb89a5f",
   "metadata": {},
   "outputs": [],
   "source": [
    "a = stats.mode(ss)"
   ]
  },
  {
   "cell_type": "code",
   "execution_count": null,
   "id": "e36aa723",
   "metadata": {},
   "outputs": [],
   "source": [
    "print(a)"
   ]
  },
  {
   "cell_type": "code",
   "execution_count": null,
   "id": "0fb1d1a3",
   "metadata": {},
   "outputs": [],
   "source": [
    "s = np.std(ss)"
   ]
  },
  {
   "cell_type": "code",
   "execution_count": null,
   "id": "8418fae0",
   "metadata": {},
   "outputs": [],
   "source": [
    "s"
   ]
  },
  {
   "cell_type": "markdown",
   "id": "1d9d8d26",
   "metadata": {},
   "source": [
    "### Create an array containing 250 random floats between 0 and 5:"
   ]
  },
  {
   "cell_type": "code",
   "execution_count": null,
   "id": "b1e6299b",
   "metadata": {},
   "outputs": [],
   "source": [
    "num = np.random.rand(0,5,250)\n",
    "print(num)"
   ]
  },
  {
   "cell_type": "code",
   "execution_count": null,
   "id": "59b89a30",
   "metadata": {},
   "outputs": [],
   "source": []
  }
 ],
 "metadata": {
  "kernelspec": {
   "display_name": "Python 3 (ipykernel)",
   "language": "python",
   "name": "python3"
  },
  "language_info": {
   "codemirror_mode": {
    "name": "ipython",
    "version": 3
   },
   "file_extension": ".py",
   "mimetype": "text/x-python",
   "name": "python",
   "nbconvert_exporter": "python",
   "pygments_lexer": "ipython3",
   "version": "3.9.9"
  }
 },
 "nbformat": 4,
 "nbformat_minor": 5
}
